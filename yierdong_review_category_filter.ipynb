{
 "cells": [
  {
   "cell_type": "code",
   "execution_count": 1,
   "metadata": {},
   "outputs": [],
   "source": [
    "import json\n",
    "from pathlib import Path\n",
    "from pycocotools.coco import COCO"
   ]
  },
  {
   "cell_type": "code",
   "execution_count": 5,
   "metadata": {},
   "outputs": [],
   "source": [
    "class CocoFilter():\n",
    "    \"\"\" Filters the COCO dataset\n",
    "    \"\"\"\n",
    "    def _process_info(self):\n",
    "        self.info = self.coco['info']\n",
    "        \n",
    "    def _process_licenses(self):\n",
    "        self.licenses = self.coco['licenses']\n",
    "        \n",
    "    def _process_categories(self):\n",
    "        self.categories = dict()\n",
    "        self.super_categories = dict()\n",
    "        self.category_set = set()\n",
    "\n",
    "        for category in self.coco['categories']:\n",
    "            cat_id = category['id']\n",
    "            super_category = category['supercategory']\n",
    "            \n",
    "            # Add category to categories dict\n",
    "            if cat_id not in self.categories:\n",
    "                self.categories[cat_id] = category\n",
    "                self.category_set.add(category['name'])\n",
    "            else:\n",
    "                print(f'ERROR: Skipping duplicate category id: {category}')\n",
    "            \n",
    "            # Add category id to the super_categories dict\n",
    "            if super_category not in self.super_categories:\n",
    "                self.super_categories[super_category] = {cat_id}\n",
    "            else:\n",
    "                self.super_categories[super_category] |= {cat_id} # e.g. {1, 2, 3} |= {4} => {1, 2, 3, 4}\n",
    "\n",
    "    def _process_images(self):\n",
    "        self.images = dict()\n",
    "        for image in self.coco['images']:\n",
    "            image_id = image['id']\n",
    "            if image_id not in self.images:\n",
    "                self.images[image_id] = image\n",
    "            else:\n",
    "                print(f'ERROR: Skipping duplicate image id: {image}')\n",
    "                \n",
    "    def _process_segmentations(self):\n",
    "        self.segmentations = dict()\n",
    "        for segmentation in self.coco['annotations']:\n",
    "            image_id = segmentation['image_id']\n",
    "            if image_id not in self.segmentations:\n",
    "                self.segmentations[image_id] = []\n",
    "            self.segmentations[image_id].append(segmentation)\n",
    "\n",
    "    def _filter_categories(self):\n",
    "        \"\"\" Find category ids matching args\n",
    "            Create mapping from original category id to new category id\n",
    "            Create new collection of categories\n",
    "        \"\"\"\n",
    "        missing_categories = set(self.filter_categories) - self.category_set\n",
    "        if len(missing_categories) > 0:\n",
    "            print(f'Did not find categories: {missing_categories}')\n",
    "            should_continue = input('Continue? (y/n) ').lower()\n",
    "            if should_continue != 'y' and should_continue != 'yes':\n",
    "                print('Quitting early.')\n",
    "                quit()\n",
    "\n",
    "        self.new_category_map = dict()\n",
    "        new_id = 1\n",
    "        for key, item in self.categories.items():\n",
    "            if item['name'] in self.filter_categories:\n",
    "                self.new_category_map[key] = key\n",
    "                new_id += 1\n",
    "\n",
    "        self.new_categories = []\n",
    "        for original_cat_id, new_id in self.new_category_map.items():\n",
    "            new_category = dict(self.categories[original_cat_id])\n",
    "            new_category['id'] = new_id\n",
    "            self.new_categories.append(new_category)\n",
    "        print(self.new_category_map)\n",
    "\n",
    "    def _filter_annotations(self):\n",
    "        \"\"\" Create new collection of annotations matching category ids\n",
    "            Keep track of image ids matching annotations\n",
    "        \"\"\"\n",
    "        self.new_segmentations = []\n",
    "        self.new_image_ids = set()\n",
    "        for image_id, segmentation_list in self.segmentations.items():\n",
    "            for segmentation in segmentation_list:\n",
    "                original_seg_cat = segmentation['category_id']\n",
    "                if original_seg_cat in self.new_category_map.keys():\n",
    "                    new_segmentation = dict(segmentation)\n",
    "                    new_segmentation['category_id'] = self.new_category_map[original_seg_cat]\n",
    "                    self.new_segmentations.append(new_segmentation)\n",
    "                    self.new_image_ids.add(image_id)\n",
    "\n",
    "    def _filter_images(self):\n",
    "        \"\"\" Create new collection of images\n",
    "        \"\"\"\n",
    "        self.new_images = []\n",
    "        for image_id in self.new_image_ids:\n",
    "            self.new_images.append(self.images[image_id])\n",
    "\n",
    "    def main(self, input_json,output_json, categories):\n",
    "        # Open json\n",
    "        self.input_json_path = Path(input_json)\n",
    "        self.output_json_path = Path(output_json)\n",
    "        self.filter_categories = categories\n",
    "\n",
    "        # Verify input path exists\n",
    "        if not self.input_json_path.exists():\n",
    "            print('Input json path not found.')\n",
    "            print('Quitting early.')\n",
    "            quit()\n",
    "\n",
    "        # Verify output path does not already exist\n",
    "        if self.output_json_path.exists():\n",
    "            should_continue = input('Output path already exists. Overwrite? (y/n) ').lower()\n",
    "            if should_continue != 'y' and should_continue != 'yes':\n",
    "                print('Quitting early.')\n",
    "                quit()\n",
    "        \n",
    "        # Load the json\n",
    "        print('Loading json file...')\n",
    "        with open(self.input_json_path) as json_file:\n",
    "            self.coco = json.load(json_file)\n",
    "        print(self.coco.keys())\n",
    "        \n",
    "        # Process the json\n",
    "        print('Processing input json...')\n",
    "        self._process_info()\n",
    "        #self._process_licenses()\n",
    "        self._process_categories()\n",
    "        self._process_images()\n",
    "        self._process_segmentations()\n",
    "        \n",
    "        \n",
    "\n",
    "        # Filter to specific categories\n",
    "        print('Filtering...')\n",
    "        self._filter_categories()\n",
    "        #print(self.new_categories)\n",
    "        \n",
    "        self._filter_annotations()\n",
    "        self._filter_images()\n",
    "\n",
    "        print(len(self.new_images))\n",
    "        \n",
    "        # Build new JSON\n",
    "        new_master_json = {\n",
    "            'info': self.info,\n",
    "            'images': self.new_images,\n",
    "            'annotations': self.new_segmentations,\n",
    "            'categories': self.new_categories\n",
    "        }\n",
    "\n",
    "        # Write the JSON to a file\n",
    "        print('Saving new json file...')\n",
    "        with open(self.output_json_path, 'w+') as output_file:\n",
    "            json.dump(new_master_json, output_file)\n",
    "\n",
    "        print('Filtered json saved.')\n",
    "        \n",
    "        "
   ]
  },
  {
   "cell_type": "code",
   "execution_count": 8,
   "metadata": {},
   "outputs": [
    {
     "name": "stdout",
     "output_type": "stream",
     "text": [
      "Loading json file...\n",
      "dict_keys(['categories', 'info', 'images', 'annotations'])\n",
      "Processing input json...\n",
      "Filtering...\n",
      "{1565: 1565, 2099: 2099, 2578: 2578, 1154: 1154, 1352: 1352, 1310: 1310, 2512: 2512, 2498: 2498, 1056: 1056, 2022: 2022, 1013: 1013, 1788: 1788, 1069: 1069, 1085: 1085, 1078: 1078, 2738: 2738, 1311: 1311, 1022: 1022, 1151: 1151, 1169: 1169, 1061: 1061, 2053: 2053, 2750: 2750, 2618: 2618, 2620: 2620, 2939: 2939, 1879: 1879, 1468: 1468, 2521: 2521, 1068: 1068, 1070: 1070, 5641: 5641, 1967: 1967, 1505: 1505, 1323: 1323, 1040: 1040, 1010: 1010, 1566: 1566, 1032: 1032, 2131: 2131, 1554: 1554, 1116: 1116, 3080: 3080, 2504: 2504, 1607: 1607, 2580: 2580, 2103: 2103, 1026: 1026, 1307: 1307, 1163: 1163}\n",
      "583\n",
      "Saving new json file...\n",
      "Filtered json saved.\n"
     ]
    }
   ],
   "source": [
    "input_json = 'data/val/annotations.json'\n",
    "output_json = 'data/val/new_top50cat_val_filter.json'\n",
    "categories = ['water', 'salad-leaf-salad-green', 'bread-white', 'tomato-raw', 'butter', 'carrot-raw', 'bread-wholemeal', 'coffee-with-caffeine', 'rice', 'egg', 'mixed-vegetables', 'apple', 'jam', 'cucumber', 'wine-red', 'banana', 'cheese', 'potatoes-steamed', 'bell-pepper-red-raw', 'hard-cheese', 'espresso-with-caffeine', 'tea', 'bread-whole-wheat', 'mixed-salad-chopped-without-sauce', 'avocado', 'white-coffee-with-caffeine', 'tomato-sauce', 'wine-white', 'broccoli', 'strawberries', 'pasta-spaghetti', 'honey', 'zucchini', 'parmesan', 'chicken', 'chips-french-fries', 'braided-white-loaf', 'dark-chocolate', 'mayonnaise', 'pizza-margherita-baked', 'blueberries', 'onion', 'salami', 'leaf-spinach', 'soft-cheese', 'salmon', 'water-mineral', 'gruyere', 'glucose-drink-50g', 'yaourt-yahourt-yogourt-ou-yoghourt-natural']\n",
    "cf = CocoFilter()\n",
    "cf.main(input_json,output_json,categories)"
   ]
  },
  {
   "cell_type": "code",
   "execution_count": null,
   "metadata": {},
   "outputs": [],
   "source": [
    "input_json = 'data/train/annotations.json'\n",
    "output_json = 'data/train/new_top50cat_val_filter.json'\n",
    "categories = ['water', 'salad-leaf-salad-green', 'bread-white', 'tomato-raw', 'butter', 'carrot-raw', 'bread-wholemeal', 'coffee-with-caffeine', 'rice', 'egg', 'mixed-vegetables', 'apple', 'jam', 'cucumber', 'wine-red', 'banana', 'cheese', 'potatoes-steamed', 'bell-pepper-red-raw', 'hard-cheese', 'espresso-with-caffeine', 'tea', 'bread-whole-wheat', 'mixed-salad-chopped-without-sauce', 'avocado', 'white-coffee-with-caffeine', 'tomato-sauce', 'wine-white', 'broccoli', 'strawberries', 'pasta-spaghetti', 'honey', 'zucchini', 'parmesan', 'chicken', 'chips-french-fries', 'braided-white-loaf', 'dark-chocolate', 'mayonnaise', 'pizza-margherita-baked', 'blueberries', 'onion', 'salami', 'leaf-spinach', 'soft-cheese', 'salmon', 'water-mineral', 'gruyere', 'glucose-drink-50g', 'yaourt-yahourt-yogourt-ou-yoghourt-natural']\n",
    "cf = CocoFilter()\n",
    "cf.main(input_json,output_json,categories)"
   ]
  },
  {
   "cell_type": "code",
   "execution_count": 49,
   "metadata": {},
   "outputs": [
    {
     "name": "stdout",
     "output_type": "stream",
     "text": [
      "loading annotations into memory...\n",
      "Done (t=2.10s)\n",
      "creating index...\n",
      "index created!\n"
     ]
    }
   ],
   "source": [
    "TRAIN_ANNOTATIONS_PATH = \"data/train/new_top50cat_train_filter.json\"\n",
    "TRAIN_IMAGE_DIRECTIORY = \"data/train/images/\"\n",
    "VAL_ANNOTATIONS_PATH = \"data/val/new_top50cat_val_filter.json\"\n",
    "VAL_IMAGE_DIRECTIORY = \"data/val/images/\"\n",
    "train_coco = COCO(TRAIN_ANNOTATIONS_PATH)\n",
    "with open(TRAIN_ANNOTATIONS_PATH) as f:\n",
    "    train_annotations_data = json.load(f)"
   ]
  },
  {
   "cell_type": "code",
   "execution_count": 50,
   "metadata": {},
   "outputs": [],
   "source": [
    "category_ids = train_coco.loadCats(train_coco.getCatIds())\n",
    "category_names_readable = [_[\"name_readable\"] for _ in category_ids]\n",
    "category_names = [_[\"name\"] for _ in category_ids]\n",
    "category_id = [_[\"id\"] for _ in category_ids]"
   ]
  },
  {
   "cell_type": "code",
   "execution_count": 51,
   "metadata": {},
   "outputs": [
    {
     "name": "stdout",
     "output_type": "stream",
     "text": [
      "['bread-wholemeal', 'jam', 'water', 'banana', 'soft-cheese', 'hard-cheese', 'coffee-with-caffeine', 'tea', 'avocado', 'egg', 'chips-french-fries', 'chicken', 'tomato-raw', 'broccoli', 'carrot-raw', 'tomato-sauce', 'cheese', 'mixed-vegetables', 'apple', 'blueberries', 'cucumber', 'butter', 'mayonnaise', 'wine-red', 'wine-white', 'pizza-margherita-baked', 'salami', 'rice', 'white-coffee-with-caffeine', 'bell-pepper-red-raw', 'zucchini', 'yaourt-yahourt-yogourt-ou-yoghourt-natural', 'salmon', 'pasta-spaghetti', 'parmesan', 'salad-leaf-salad-green', 'potatoes-steamed', 'bread-white', 'leaf-spinach', 'dark-chocolate', 'bread-whole-wheat', 'onion', 'glucose-drink-50g', 'espresso-with-caffeine', 'braided-white-loaf', 'water-mineral', 'honey', 'mixed-salad-chopped-without-sauce', 'gruyere', 'strawberries']\n"
     ]
    }
   ],
   "source": [
    "print(category_names)"
   ]
  },
  {
   "cell_type": "code",
   "execution_count": 52,
   "metadata": {},
   "outputs": [
    {
     "name": "stdout",
     "output_type": "stream",
     "text": [
      "[1565, 2099, 2578, 1154, 1352, 1310, 2512, 2498, 1056, 2022, 1013, 1788, 1069, 1085, 1078, 2738, 1311, 1022, 1151, 1169, 1061, 2053, 2750, 2618, 2620, 2939, 1879, 1468, 2521, 1068, 1070, 5641, 1967, 1505, 1323, 1040, 1010, 1566, 1032, 2131, 1554, 1116, 3080, 2504, 1607, 2580, 2103, 1026, 1307, 1163]\n"
     ]
    }
   ],
   "source": [
    "print(category_id)"
   ]
  },
  {
   "cell_type": "code",
   "execution_count": 53,
   "metadata": {},
   "outputs": [
    {
     "name": "stdout",
     "output_type": "stream",
     "text": [
      "loading annotations into memory...\n",
      "Done (t=0.02s)\n",
      "creating index...\n",
      "index created!\n"
     ]
    }
   ],
   "source": [
    "val_coco = COCO(VAL_ANNOTATIONS_PATH)\n",
    "with open(VAL_ANNOTATIONS_PATH) as f:\n",
    "    val_annotations_data = json.load(f)\n"
   ]
  },
  {
   "cell_type": "code",
   "execution_count": 54,
   "metadata": {},
   "outputs": [],
   "source": [
    "category_ids = train_coco.loadCats(train_coco.getCatIds())\n",
    "category_names_readable = [_[\"name_readable\"] for _ in category_ids]\n",
    "category_names = [_[\"name\"] for _ in category_ids]\n",
    "category_id = [_[\"id\"] for _ in category_ids]"
   ]
  },
  {
   "cell_type": "code",
   "execution_count": 55,
   "metadata": {},
   "outputs": [
    {
     "name": "stdout",
     "output_type": "stream",
     "text": [
      "['bread-wholemeal', 'jam', 'water', 'banana', 'soft-cheese', 'hard-cheese', 'coffee-with-caffeine', 'tea', 'avocado', 'egg', 'chips-french-fries', 'chicken', 'tomato-raw', 'broccoli', 'carrot-raw', 'tomato-sauce', 'cheese', 'mixed-vegetables', 'apple', 'blueberries', 'cucumber', 'butter', 'mayonnaise', 'wine-red', 'wine-white', 'pizza-margherita-baked', 'salami', 'rice', 'white-coffee-with-caffeine', 'bell-pepper-red-raw', 'zucchini', 'yaourt-yahourt-yogourt-ou-yoghourt-natural', 'salmon', 'pasta-spaghetti', 'parmesan', 'salad-leaf-salad-green', 'potatoes-steamed', 'bread-white', 'leaf-spinach', 'dark-chocolate', 'bread-whole-wheat', 'onion', 'glucose-drink-50g', 'espresso-with-caffeine', 'braided-white-loaf', 'water-mineral', 'honey', 'mixed-salad-chopped-without-sauce', 'gruyere', 'strawberries']\n"
     ]
    }
   ],
   "source": [
    "print(category_names)"
   ]
  },
  {
   "cell_type": "code",
   "execution_count": 56,
   "metadata": {},
   "outputs": [
    {
     "name": "stdout",
     "output_type": "stream",
     "text": [
      "[1565, 2099, 2578, 1154, 1352, 1310, 2512, 2498, 1056, 2022, 1013, 1788, 1069, 1085, 1078, 2738, 1311, 1022, 1151, 1169, 1061, 2053, 2750, 2618, 2620, 2939, 1879, 1468, 2521, 1068, 1070, 5641, 1967, 1505, 1323, 1040, 1010, 1566, 1032, 2131, 1554, 1116, 3080, 2504, 1607, 2580, 2103, 1026, 1307, 1163]\n"
     ]
    }
   ],
   "source": [
    "print(category_id)"
   ]
  },
  {
   "cell_type": "code",
   "execution_count": 2,
   "metadata": {},
   "outputs": [
    {
     "name": "stdout",
     "output_type": "stream",
     "text": [
      "loading annotations into memory...\n",
      "Done (t=2.60s)\n",
      "creating index...\n",
      "index created!\n"
     ]
    }
   ],
   "source": [
    "TRAIN_ANNOTATIONS_PATH = \"data/train/top50cat_train_filter.json\"\n",
    "TRAIN_IMAGE_DIRECTIORY = \"data/train/images/\"\n",
    "train_coco = COCO(TRAIN_ANNOTATIONS_PATH)\n",
    "with open(TRAIN_ANNOTATIONS_PATH) as f:\n",
    "    train_annotations_data = json.load(f)"
   ]
  },
  {
   "cell_type": "code",
   "execution_count": 3,
   "metadata": {},
   "outputs": [],
   "source": [
    "category_ids = train_coco.loadCats(train_coco.getCatIds())\n",
    "category_names_readable = [_[\"name_readable\"] for _ in category_ids]\n",
    "category_names = [_[\"name\"] for _ in category_ids]\n",
    "category_id = [_[\"id\"] for _ in category_ids]"
   ]
  },
  {
   "cell_type": "code",
   "execution_count": 4,
   "metadata": {},
   "outputs": [
    {
     "name": "stdout",
     "output_type": "stream",
     "text": [
      "['bread-wholemeal', 'jam', 'water', 'banana', 'soft-cheese', 'hard-cheese', 'coffee-with-caffeine', 'tea', 'avocado', 'egg', 'chips-french-fries', 'chicken', 'tomato-raw', 'broccoli', 'carrot-raw', 'tomato-sauce', 'cheese', 'mixed-vegetables', 'apple', 'blueberries', 'cucumber', 'butter', 'mayonnaise', 'wine-red', 'wine-white', 'pizza-margherita-baked', 'salami', 'rice', 'white-coffee-with-caffeine', 'bell-pepper-red-raw', 'zucchini', 'yaourt-yahourt-yogourt-ou-yoghourt-natural', 'salmon', 'pasta-spaghetti', 'parmesan', 'salad-leaf-salad-green', 'potatoes-steamed', 'bread-white', 'leaf-spinach', 'dark-chocolate', 'bread-whole-wheat', 'onion', 'glucose-drink-50g', 'espresso-with-caffeine', 'braided-white-loaf', 'water-mineral', 'honey', 'mixed-salad-chopped-without-sauce', 'gruyere', 'strawberries']\n"
     ]
    }
   ],
   "source": [
    "print(category_names)"
   ]
  },
  {
   "cell_type": "code",
   "execution_count": null,
   "metadata": {},
   "outputs": [],
   "source": []
  }
 ],
 "metadata": {
  "kernelspec": {
   "display_name": "swin",
   "language": "python",
   "name": "swin"
  },
  "language_info": {
   "codemirror_mode": {
    "name": "ipython",
    "version": 3
   },
   "file_extension": ".py",
   "mimetype": "text/x-python",
   "name": "python",
   "nbconvert_exporter": "python",
   "pygments_lexer": "ipython3",
   "version": "3.7.13"
  }
 },
 "nbformat": 4,
 "nbformat_minor": 4
}
